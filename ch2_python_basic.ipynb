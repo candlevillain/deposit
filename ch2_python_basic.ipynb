{
  "cells": [
    {
      "cell_type": "markdown",
      "metadata": {
        "id": "view-in-github",
        "colab_type": "text"
      },
      "source": [
        "<a href=\"https://colab.research.google.com/github/candlevillain/deposit/blob/master/ch2_python_basic.ipynb\" target=\"_parent\"><img src=\"https://colab.research.google.com/assets/colab-badge.svg\" alt=\"Open In Colab\"/></a>"
      ]
    },
    {
      "cell_type": "markdown",
      "metadata": {
        "id": "ctdidAibYtal"
      },
      "source": [
        "## 세션 개요\n",
        "\n",
        "+ 이미 알 것이라고 가정한 내용\n",
        "  + 기본적인 논리 연산자(`==, !=, >, <,and, or, not`)\n",
        "  + 흐름 제어(반복문, 조건문) 기초개념\n",
        "  + 함수 기초개념\n",
        "  + 파일 입출력\n",
        "  + 모듈 임포트\n",
        "  + 기본적인 입력/출력(input, print)\n",
        "\n",
        "\n",
        "<br>\n",
        "\n",
        "+ 다룰 내용\n",
        "  + 파이썬 기초 개념 세우기\n",
        "  + 기본 데이터 타입들 빠르게 복습하기\n",
        "  + 중요 개념들과 주요 함수들 빠르게 복습하기\n",
        "    + 함수 포인트: 여러 값을 반환하기, 지역변수/전역변수 개념, 람다함수(익명함수)\n",
        "    + 리스트 내장과 제너레이터 개념\n",
        "    + 주요 함수들: range함수, enumerate함수, zip함수,\n",
        "\n",
        "\n",
        "<br>\n",
        "\n",
        "+ 다루지 못한 내용\n",
        "  + 2.3.2. 중 몇몇 스칼라 타입들(바이트, NoneType, datetime)\n",
        "  + 3.2.5. 커링\n",
        "  + 3.2.6. 제너레이터\n",
        "  + 3.2.7. 예외처리"
      ]
    },
    {
      "cell_type": "markdown",
      "metadata": {
        "id": "87Ctldr8Ytas"
      },
      "source": [
        "## ch2. 파이썬 기초개념 세우기: 객체와 변수를 중심으로\n",
        "+ 들여쓰기. 띄어쓰기 4칸. #은 주석.\n",
        "+ 파이썬의 모든 것은 객체다!\n",
        "  + `123`(정수형)나 `'abc'`(문자열)같은 기본 자료형은 물론, 함수(`print`)들 역시 객체로 취급한다.\n",
        "  + 객체란 상자와 비슷하다.\n",
        "    + 우선, 상자의 모양이 다양하듯, 객체의 타입 역시 다양하다. (`type()`함수를 통해 확인할 수 있다.)\n",
        "    + 상자를 열면 그 안에 여러 물건들이 들어있듯, 객체를 열어보면(`dir()`함수) 그 안에 여러 값, 속성들과 기능(메소드)들이 들어있다.\n",
        "  + 객체가 상자라면, 변수는 상자에 붙이는 포스트잇이다!\n",
        "    + 포스트잇이 특징이 없듯, 변수 역시 딱히 특징이 없으며 모든 특징들(타입, 값 등)은 참조하는 객체에 의해 정의된다!\n",
        "    + 포스트잇에 포스트잇을 붙일 수 없듯, 변수는 항상 객체를 참조한다!"
      ]
    },
    {
      "cell_type": "code",
      "execution_count": null,
      "metadata": {
        "colab": {
          "base_uri": "https://localhost:8080/"
        },
        "id": "srCic4n7YtbR",
        "outputId": "7a146c54-fe32-4df1-be35-c8b44b1d0db1"
      },
      "outputs": [
        {
          "output_type": "stream",
          "name": "stdout",
          "text": [
            "<class 'str'>\n"
          ]
        }
      ],
      "source": [
        "print(type('123'))"
      ]
    },
    {
      "cell_type": "code",
      "execution_count": null,
      "metadata": {
        "colab": {
          "base_uri": "https://localhost:8080/"
        },
        "id": "m6K_9_8zYtbb",
        "outputId": "766e9824-83ad-486b-b058-34dfe15125dd"
      },
      "outputs": [
        {
          "output_type": "execute_result",
          "data": {
            "text/plain": [
              "['__add__',\n",
              " '__class__',\n",
              " '__contains__',\n",
              " '__delattr__',\n",
              " '__dir__',\n",
              " '__doc__',\n",
              " '__eq__',\n",
              " '__format__',\n",
              " '__ge__',\n",
              " '__getattribute__',\n",
              " '__getitem__',\n",
              " '__getnewargs__',\n",
              " '__gt__',\n",
              " '__hash__',\n",
              " '__init__',\n",
              " '__init_subclass__',\n",
              " '__iter__',\n",
              " '__le__',\n",
              " '__len__',\n",
              " '__lt__',\n",
              " '__mod__',\n",
              " '__mul__',\n",
              " '__ne__',\n",
              " '__new__',\n",
              " '__reduce__',\n",
              " '__reduce_ex__',\n",
              " '__repr__',\n",
              " '__rmod__',\n",
              " '__rmul__',\n",
              " '__setattr__',\n",
              " '__sizeof__',\n",
              " '__str__',\n",
              " '__subclasshook__',\n",
              " 'capitalize',\n",
              " 'casefold',\n",
              " 'center',\n",
              " 'count',\n",
              " 'encode',\n",
              " 'endswith',\n",
              " 'expandtabs',\n",
              " 'find',\n",
              " 'format',\n",
              " 'format_map',\n",
              " 'index',\n",
              " 'isalnum',\n",
              " 'isalpha',\n",
              " 'isascii',\n",
              " 'isdecimal',\n",
              " 'isdigit',\n",
              " 'isidentifier',\n",
              " 'islower',\n",
              " 'isnumeric',\n",
              " 'isprintable',\n",
              " 'isspace',\n",
              " 'istitle',\n",
              " 'isupper',\n",
              " 'join',\n",
              " 'ljust',\n",
              " 'lower',\n",
              " 'lstrip',\n",
              " 'maketrans',\n",
              " 'partition',\n",
              " 'removeprefix',\n",
              " 'removesuffix',\n",
              " 'replace',\n",
              " 'rfind',\n",
              " 'rindex',\n",
              " 'rjust',\n",
              " 'rpartition',\n",
              " 'rsplit',\n",
              " 'rstrip',\n",
              " 'split',\n",
              " 'splitlines',\n",
              " 'startswith',\n",
              " 'strip',\n",
              " 'swapcase',\n",
              " 'title',\n",
              " 'translate',\n",
              " 'upper',\n",
              " 'zfill']"
            ]
          },
          "metadata": {},
          "execution_count": 20
        }
      ],
      "source": [
        "dir('123') #각 자료형에 쓸 수 있는 메서드 표시, 각 객체 안에 메서드가 들어 있기 때문에 사용 가능"
      ]
    },
    {
      "cell_type": "code",
      "execution_count": null,
      "metadata": {
        "colab": {
          "base_uri": "https://localhost:8080/"
        },
        "id": "wMpxVLCKYtb7",
        "outputId": "b8b61d1d-17d7-4742-9884-18109328c66d"
      },
      "outputs": [
        {
          "output_type": "execute_result",
          "data": {
            "text/plain": [
              "['__call__',\n",
              " '__class__',\n",
              " '__delattr__',\n",
              " '__dir__',\n",
              " '__doc__',\n",
              " '__eq__',\n",
              " '__format__',\n",
              " '__ge__',\n",
              " '__getattribute__',\n",
              " '__gt__',\n",
              " '__hash__',\n",
              " '__init__',\n",
              " '__init_subclass__',\n",
              " '__le__',\n",
              " '__lt__',\n",
              " '__module__',\n",
              " '__name__',\n",
              " '__ne__',\n",
              " '__new__',\n",
              " '__qualname__',\n",
              " '__reduce__',\n",
              " '__reduce_ex__',\n",
              " '__repr__',\n",
              " '__self__',\n",
              " '__setattr__',\n",
              " '__sizeof__',\n",
              " '__str__',\n",
              " '__subclasshook__',\n",
              " '__text_signature__']"
            ]
          },
          "metadata": {},
          "execution_count": 21
        }
      ],
      "source": [
        "dir(print)"
      ]
    },
    {
      "cell_type": "code",
      "execution_count": null,
      "metadata": {
        "colab": {
          "base_uri": "https://localhost:8080/"
        },
        "id": "Na3KflCRYtb8",
        "outputId": "684e902e-c222-4ed1-a6a5-802c77c89282"
      },
      "outputs": [
        {
          "output_type": "stream",
          "name": "stdout",
          "text": [
            "True\n",
            "139688472931888 139688472931888\n"
          ]
        }
      ],
      "source": [
        "a = '123' # 변수는 박스에 붙이는 포스트잇\n",
        "b = a # 박스에 다른 포스트잇 붙이기\n",
        "\n",
        "print(a is b)       ## ==는 객체의 값만 비교하지만, is는 객체의 값 뿐만 아니라 id값까지 비교한다. 즉, 객체 자체를 비교한다!\n",
        "print(id(a), id(b))"
      ]
    },
    {
      "cell_type": "code",
      "execution_count": null,
      "metadata": {
        "colab": {
          "base_uri": "https://localhost:8080/"
        },
        "id": "TZLekHOqYtb8",
        "outputId": "055f3c72-e477-4f41-bcc2-59eca74dd28a"
      },
      "outputs": [
        {
          "output_type": "stream",
          "name": "stdout",
          "text": [
            "True\n",
            "139688059587968 139688059587968\n"
          ]
        }
      ],
      "source": [
        "a = [1,2,3]\n",
        "b = a\n",
        "\n",
        "print(a is b)\n",
        "print(id(a), id(b))"
      ]
    },
    {
      "cell_type": "code",
      "execution_count": null,
      "metadata": {
        "colab": {
          "base_uri": "https://localhost:8080/"
        },
        "id": "8LkCy9n-Ytb9",
        "outputId": "a7f89df4-0f0d-436a-ce92-af53bc1abd27"
      },
      "outputs": [
        {
          "output_type": "stream",
          "name": "stdout",
          "text": [
            "[1, 2, 3, 1] [1, 2, 3, 1]\n"
          ]
        }
      ],
      "source": [
        "a.append(1) #a에 값 추가했는데 b에도 값 추가됨, a와 b가 같은 객체를 가리키므로 a에 값 추가하면 b까지 수정됨\n",
        "\n",
        "print(a, b)"
      ]
    },
    {
      "cell_type": "code",
      "execution_count": null,
      "metadata": {
        "colab": {
          "base_uri": "https://localhost:8080/"
        },
        "id": "ODY5GZISYtb9",
        "outputId": "fd5b9ba7-666d-46e7-b38c-fe0b17bf2f62"
      },
      "outputs": [
        {
          "output_type": "stream",
          "name": "stdout",
          "text": [
            "<class 'list'>\n",
            "<class 'str'>\n"
          ]
        }
      ],
      "source": [
        "a = [1,2,3]\n",
        "print(type(a))\n",
        "\n",
        "a = '456' #포스트잇 떼서 붙이기\n",
        "print(type(a))"
      ]
    },
    {
      "cell_type": "markdown",
      "metadata": {
        "id": "jhCeJ4HSYtb9"
      },
      "source": [
        "###### 참고. 문자열과 정수형에 대한 캐싱\n",
        "\n",
        "+ 원칙적으로 파이썬은, 새로운 객체를 생성하면, 설사 값이 같더라도, 별개의 객체를 생성해야 맞다.\n",
        "+ 그러나 작은 숫자나 문자열의 경우, 파이썬은 매번 새로운 객체를 만들지 않고, 생성된 객체를 재활용하는 식으로 메모리를 절약한다."
      ]
    },
    {
      "cell_type": "code",
      "execution_count": null,
      "metadata": {
        "id": "PUtS1VmCYtb-"
      },
      "outputs": [],
      "source": [
        "a = [1,2,3]\n",
        "b = [1,2,3]\n",
        "\n",
        "print(a == b)\n",
        "print(a is b)"
      ]
    },
    {
      "cell_type": "code",
      "execution_count": null,
      "metadata": {
        "id": "oxEiDlRwYtb-"
      },
      "outputs": [],
      "source": [
        "a = '생각에 관한 생각. 하이켈하임 로마사. 도덕적 인간과 비도덕적 사회. 밑바닥부터 시작하는 딥러닝'\n",
        "b = '생각에 관한 생각. 하이켈하임 로마사. 도덕적 인간과 비도덕적 사회. 밑바닥부터 시작하는 딥러닝'\n",
        "\n",
        "print(a == b)\n",
        "print(a is b)"
      ]
    },
    {
      "cell_type": "code",
      "execution_count": null,
      "metadata": {
        "id": "xOVgWMZ_Ytb_"
      },
      "outputs": [],
      "source": [
        "a = '123'\n",
        "b = '123'\n",
        "\n",
        "print(a == b)\n",
        "print(a is b)"
      ]
    },
    {
      "cell_type": "code",
      "execution_count": null,
      "metadata": {
        "id": "oXsrBl3UYtb_"
      },
      "outputs": [],
      "source": [
        "a = 123456789\n",
        "b = 123456789\n",
        "\n",
        "print(a == b)\n",
        "print(a is b)"
      ]
    },
    {
      "cell_type": "code",
      "execution_count": null,
      "metadata": {
        "id": "uX6QdNikYtb_"
      },
      "outputs": [],
      "source": [
        "a = 123\n",
        "b = 123\n",
        "\n",
        "print(a == b)\n",
        "print(a is b)"
      ]
    },
    {
      "cell_type": "markdown",
      "metadata": {
        "id": "fMVn5xr4Ytb_"
      },
      "source": [
        "## ch2~3. 기본 데이터 타입들 빠르게 복습하기\n",
        "\n",
        "+ 파이썬의 기본 데이터 타입들은 **반복과 순서**라는 두 가지 기준을 가지고 구분할 수 있다.\n",
        "\n",
        "<br>\n",
        "\n",
        "+ 1.반복불가\n",
        "  + ~~반복불가-순서있음~~\n",
        "  + 1-1.반복불가-순서없음(스칼라형, atomic 데이터타입)\n",
        "    + <u>숫자(int, float...), 불값(True, false), None</u> 등...\n",
        "+ 2.반복가능 iterable\n",
        "  + 2-1.반복가능-순서없음\n",
        "    + 1)집합\n",
        "    + 2)사전\n",
        "  + 2-2.반복가능-순서있음\n",
        "    + 1)<u>문자열</u>\n",
        "    + 2)리스트\n",
        "    + 3)<u>튜플</u>\n",
        "\n",
        "<br>\n",
        "\n",
        "+ 밑줄친 스칼라형 및 문자열, 튜플은 <u>immutable(=hashable)</u>, 즉 (객체가 가지고 있는 값이 )불변하는 객체다.\n",
        "+ 그 외의 대부분의 데이터 타입들은 mutable, 즉 (객체가 가지고 있는 값이 )변할 수 있는 가변 객체다.\n"
      ]
    },
    {
      "cell_type": "markdown",
      "metadata": {
        "id": "vgOft5lEYtcA"
      },
      "source": [
        "### 1.반복불가\n",
        "\n",
        "\\####~~1-2.반복불가-순서있음~~\n",
        "+ 반복이 불가한데 순서가 있다는 것은 논리적으로 말이 안된다.\n",
        "\n",
        "#### 1-1.반복불가-순서없음: 숫자, 불값, None..."
      ]
    },
    {
      "cell_type": "code",
      "execution_count": null,
      "metadata": {
        "colab": {
          "base_uri": "https://localhost:8080/"
        },
        "id": "9Z87nqOjYtcB",
        "outputId": "db0e13c7-d2d4-4ad6-8046-a44c445869bf"
      },
      "outputs": [
        {
          "output_type": "stream",
          "name": "stdout",
          "text": [
            "2\n",
            "1\n",
            "3\n",
            "1.5\n"
          ]
        }
      ],
      "source": [
        "print(\n",
        "    1+1,\n",
        "    2-1,\n",
        "    1*3,\n",
        "    3/2,\n",
        "    sep = '\\n'\n",
        ")"
      ]
    },
    {
      "cell_type": "code",
      "execution_count": null,
      "metadata": {
        "id": "YFCpRz8AYtcB"
      },
      "outputs": [],
      "source": [
        "'1' + 1"
      ]
    },
    {
      "cell_type": "code",
      "execution_count": null,
      "metadata": {
        "colab": {
          "base_uri": "https://localhost:8080/"
        },
        "id": "U8q-XvUxYtcC",
        "outputId": "3f642365-2b73-49b3-dd63-0b3c662f3ef7"
      },
      "outputs": [
        {
          "output_type": "stream",
          "name": "stdout",
          "text": [
            "1.5\n",
            "1\n",
            "2\n",
            "24\n",
            "36\n"
          ]
        }
      ],
      "source": [
        "print(\n",
        "    6 / 4,\n",
        "    6 // 4,\n",
        "    6 % 4,\n",
        "    6 * 4,\n",
        "    6 ** 2, #기억\n",
        "    sep = '\\n'\n",
        ")"
      ]
    },
    {
      "cell_type": "code",
      "execution_count": null,
      "metadata": {
        "colab": {
          "base_uri": "https://localhost:8080/"
        },
        "id": "QdRW8E9bYtcC",
        "outputId": "5719fb5f-6e34-492d-9519-e8104d0dec4f"
      },
      "outputs": [
        {
          "output_type": "stream",
          "name": "stdout",
          "text": [
            "2\n",
            "True\n",
            "0\n",
            "True\n"
          ]
        }
      ],
      "source": [
        "## True는 1, False는 0으로 계산된다.\n",
        "print(\n",
        "    True + True,\n",
        "    True == 1,\n",
        "    False + False,\n",
        "    False == 0,\n",
        "    sep = '\\n',\n",
        ")"
      ]
    },
    {
      "cell_type": "code",
      "execution_count": null,
      "metadata": {
        "id": "Loo-NJzaYtcD"
      },
      "outputs": [],
      "source": [
        "print(\n",
        "    not True,\n",
        "    not False,\n",
        "    not 0,\n",
        "    not 1,\n",
        "    not 2,\n",
        "    not [123, 456],\n",
        "    sep = '\\n'\n",
        ")"
      ]
    },
    {
      "cell_type": "code",
      "execution_count": null,
      "metadata": {
        "id": "TDYewoiXYtcD"
      },
      "outputs": [],
      "source": [
        "## 확장 할당 연산자\n",
        "a = 0\n",
        "a += 1 # 값 더하고 다시 a라는 포스트잇 붙이기\n",
        "print(a)\n",
        "\n",
        "a -= 10\n",
        "print(a)\n",
        "\n",
        "a /= 3\n",
        "print(a)\n",
        "\n",
        "a *= 3\n",
        "print(a)\n",
        "\n",
        "a //= 2\n",
        "print(a)\n",
        "\n",
        "a **=2\n",
        "print(a)"
      ]
    },
    {
      "cell_type": "markdown",
      "metadata": {
        "id": "54-J0JF3YtcD"
      },
      "source": [
        "##### 복습문제 1\n",
        "+ 사용자의 입력을 input으로 받아,\n",
        "  + 5로 나눈 나머지가 0이면, 아무것도 출력하지 않고,\n",
        "  + 5로 나눈 나머지가 0이 아니면, 5로 나눈 몫을 출력하는\n",
        "+ 코드를 작성하시오."
      ]
    },
    {
      "cell_type": "code",
      "execution_count": null,
      "metadata": {
        "colab": {
          "base_uri": "https://localhost:8080/"
        },
        "id": "2qB2G1hiYtcE",
        "outputId": "6e358307-b460-4f67-b856-de60da016817"
      },
      "outputs": [
        {
          "output_type": "stream",
          "name": "stdout",
          "text": [
            "12\n",
            "2\n"
          ]
        }
      ],
      "source": [
        "## 한번의 실행마다 하나의 입력값이 들어가고, 하나의 출력값이 나온다.\n",
        "## 입력값: 12, 20, 17.\n",
        "\n",
        "num = int(input()) #input은 str타입이므로 int로 바꿔야\n",
        "if num%5 == 0:\n",
        "  pass #continue와 break은 반복문에서, pass는 조건문에서도 사용가능\n",
        "else:\n",
        "  print(num//5);\n",
        "\n",
        "\n",
        "## 출력값: 2, 출력값 없음, 3"
      ]
    },
    {
      "cell_type": "markdown",
      "metadata": {
        "id": "LwRWDROkYtcE"
      },
      "source": [
        "### 2.반복가능: 집합, 사전, 문자열, 리스트, 튜플\n",
        "+ iterable 혹은 container.\n",
        "  + 해당 객체가 다른 객체들을 담고 있기 때문에, 그 안에 담겨진 객체들을 꺼내거나, 다른 객체들을 또 넣을 수 있다.\n",
        "  + 중첩해서 리스트 안에 리스트를 넣거나, 튜플 안에 리스트를 넣는 것도 당연히 가능하다.\n",
        "+ 공통적으로 `in`, `len()`, `sum()`, `sorted()`함수를 사용할 수 있다."
      ]
    },
    {
      "cell_type": "code",
      "execution_count": null,
      "metadata": {
        "colab": {
          "base_uri": "https://localhost:8080/"
        },
        "id": "b70VIZLpYtcF",
        "outputId": "8f1b3473-173b-4d46-e58a-94e6878b53ba"
      },
      "outputs": [
        {
          "output_type": "stream",
          "name": "stdout",
          "text": [
            "True\n",
            "False\n",
            "True\n",
            "True\n",
            "True\n"
          ]
        }
      ],
      "source": [
        "print(\n",
        "    1 in {1,2,3},\n",
        "    10 in {1:10, 2:20, 3:30}, #key의 값만 참조해 불 대수 반환\n",
        "    '1' in '123', # 문자열 시에는 문자열\n",
        "    1 in [1,2,3],\n",
        "    1 in (1,2,3,),\n",
        "    sep = '\\n'\n",
        ")"
      ]
    },
    {
      "cell_type": "code",
      "execution_count": null,
      "metadata": {
        "colab": {
          "base_uri": "https://localhost:8080/"
        },
        "id": "WVD4t6X_YtcF",
        "outputId": "db49b447-5253-40e4-af0b-7a5169c459b4"
      },
      "outputs": [
        {
          "output_type": "stream",
          "name": "stdout",
          "text": [
            "3\n",
            "3\n",
            "3\n",
            "3\n",
            "3\n"
          ]
        }
      ],
      "source": [
        "print(\n",
        "    len({1,2,3}),\n",
        "    len({1:10, 2:20, 3:30}),\n",
        "    len('123'),\n",
        "    len([1,2,3]),\n",
        "    len((1,2,3)),\n",
        "    sep = '\\n'\n",
        ")"
      ]
    },
    {
      "cell_type": "code",
      "execution_count": null,
      "metadata": {
        "colab": {
          "base_uri": "https://localhost:8080/"
        },
        "id": "okkSdtuBYtcF",
        "outputId": "9f1d431b-6351-4b81-c6df-c13a724126e2"
      },
      "outputs": [
        {
          "output_type": "stream",
          "name": "stdout",
          "text": [
            "6\n",
            "6\n",
            "6\n",
            "6\n"
          ]
        }
      ],
      "source": [
        "print(\n",
        "    sum({1,2,3}),\n",
        "    sum({1:10, 2:20, 3:30}), #dict의 sum은 key만 더한다\n",
        "    sum([1,2,3]),\n",
        "    sum((1,2,3)),\n",
        "    sep = '\\n'\n",
        ")"
      ]
    },
    {
      "cell_type": "code",
      "execution_count": null,
      "metadata": {
        "colab": {
          "base_uri": "https://localhost:8080/"
        },
        "id": "rwtiai6lYtcF",
        "outputId": "658baf17-2c3b-4da7-fd2d-2a406d8fadf2"
      },
      "outputs": [
        {
          "output_type": "stream",
          "name": "stdout",
          "text": [
            "[1, 2, 3]\n",
            "[1, 2, 3]\n",
            "[1, 2, 3]\n",
            "[1, 2, 3]\n"
          ]
        }
      ],
      "source": [
        "print(\n",
        "    sorted({3,2,1}), #정렬해서 list로 반환\n",
        "    sorted({3:30, 2:20, 1:10}),\n",
        "    sorted([3,2,1]),\n",
        "    sorted((3,2,1)), #sorted는 list 반환값이 있다, sort는 없음\n",
        "    sep = '\\n'\n",
        ")\n",
        "## !! 결과값이 리스트라는 사실을 주의하자!"
      ]
    },
    {
      "cell_type": "markdown",
      "metadata": {
        "id": "MBX4FpQ5YtcG"
      },
      "source": [
        "### 2-1.반복가능-순서없음: 집합, 사전\n",
        "+ **순서가 없다는 말은, 곧 중복이 허용되지 않는다는 말과 같다!**\n",
        "+ 공통적으로 사용할 수 있는 함수 없음!"
      ]
    },
    {
      "cell_type": "markdown",
      "metadata": {
        "id": "W48sNq4fYtcH"
      },
      "source": [
        "#### 1)집합\n",
        "+ 사칙 연산 중 유일하게 `- (차집합)`만 가능하다!\n",
        "+ 집합 연산자 (`|, &, -, ^`)\n",
        "  + 확장할당 연산자(`|=, &=, -=, ^=`)"
      ]
    },
    {
      "cell_type": "code",
      "execution_count": null,
      "metadata": {
        "colab": {
          "base_uri": "https://localhost:8080/"
        },
        "id": "1izIdJnsYtcH",
        "outputId": "58f34236-16a1-49f3-8e53-1de4658b3438"
      },
      "outputs": [
        {
          "output_type": "stream",
          "name": "stdout",
          "text": [
            "<class 'set'> <class 'dict'>\n"
          ]
        }
      ],
      "source": [
        "a = set()\n",
        "d = {} # 빈 중괄호로 만들면 바로 dict가능\n",
        "\n",
        "print(type(a), type(d))"
      ]
    },
    {
      "cell_type": "code",
      "execution_count": null,
      "metadata": {
        "colab": {
          "base_uri": "https://localhost:8080/"
        },
        "id": "7rFQbZwRYtcI",
        "outputId": "9fdeafda-f780-4edc-d3c3-497bb542e7a4"
      },
      "outputs": [
        {
          "output_type": "stream",
          "name": "stdout",
          "text": [
            "{1, 2, 3, 4, 5}\n",
            "{3}\n",
            "{1, 2}\n",
            "{1, 2, 4, 5}\n"
          ]
        }
      ],
      "source": [
        "a = {1,2,3}\n",
        "b = {3,4,5}\n",
        "\n",
        "print(\n",
        "    a | b, #합집합\n",
        "    a & b, #교집합\n",
        "    a - b, #차집합\n",
        "    a ^ b, #대칭차집합\n",
        "    sep = '\\n'\n",
        ")"
      ]
    },
    {
      "cell_type": "code",
      "execution_count": null,
      "metadata": {
        "colab": {
          "base_uri": "https://localhost:8080/"
        },
        "id": "_EqRNJ-LYtcI",
        "outputId": "0cd6a11b-a5f7-42ad-c0a0-db552d2398a6"
      },
      "outputs": [
        {
          "output_type": "stream",
          "name": "stdout",
          "text": [
            "{1, 2, 3, 4}\n",
            "None\n",
            "{2, 3, 4}\n",
            "None\n",
            "{2, 3, 4}\n",
            "None\n",
            "{3, 4}\n",
            "2\n",
            "1\n"
          ]
        }
      ],
      "source": [
        "## 집합에 요소 더하고, 빼고\n",
        "a = {1,2,3}\n",
        "\n",
        "b = a.add(4) #a 자체가 변경됨, 반환값이 없음\n",
        "print(a)\n",
        "print(b)\n",
        "\n",
        "b = a.remove(1)\n",
        "print(a)\n",
        "print(b)\n",
        "\n",
        "b = a.discard(10) #없는 걸 제거하려고 해도 오류 안 뜸, 그 이외에는 remove와 동일\n",
        "print(a)\n",
        "print(b)\n",
        "\n",
        "# a.discard(10)\n",
        "# b = a\n",
        "\n",
        "b = a.pop() #랜덤으로 나감, 이런 걸 하고 싶으면 사실 순서있는타입을 써야\n",
        "print(a)\n",
        "print(b)\n",
        "\n",
        "c = {1,2,3,4}\n",
        "d = c.pop()\n",
        "print(d)"
      ]
    },
    {
      "cell_type": "markdown",
      "metadata": {
        "id": "RTDc908hYtcI"
      },
      "source": [
        "###### 참고: `|, |=, add, update` 차이"
      ]
    },
    {
      "cell_type": "code",
      "execution_count": null,
      "metadata": {
        "colab": {
          "base_uri": "https://localhost:8080/"
        },
        "id": "pYOpA_pDYtcI",
        "outputId": "5efb3767-c933-4707-fd3f-a96cbc8832ff"
      },
      "outputs": [
        {
          "output_type": "stream",
          "name": "stdout",
          "text": [
            "{1, 2, 3}\n",
            "{1, 2, 3, 5, 6}\n",
            "{1, 2, 3, 5, 6, 7}\n",
            "{1, 2, 3, 5, 6, 7, 8, 9, 10}\n",
            "{1, 2, 3, 100, 5, 6, 7, 8, 9, 10, 200, 300}\n"
          ]
        }
      ],
      "source": [
        "a = {1,2,3}\n",
        "\n",
        "a | {5} #update 없음\n",
        "print(a)\n",
        "\n",
        "a |= {5,6} #update 존재\n",
        "print(a)\n",
        "\n",
        "a.add(7) # 값 1개 추가\n",
        "print(a)\n",
        "\n",
        "a.update({8,9,10})   ## 값 여러 개 추가, 인자로 iterable 데이터타입(리스트, 집합, 사전 등)을 취한다!\n",
        "print(a)\n",
        "\n",
        "\n",
        "a.update([100,200,300])\n",
        "print(a)\n"
      ]
    },
    {
      "cell_type": "markdown",
      "metadata": {
        "id": "I1q20e5sYtcJ"
      },
      "source": [
        "##### 복습문제 2\n",
        "+ 주어진 문자열의 총 개수와 고유한 문자들의 개수간의 차를 구하시오."
      ]
    },
    {
      "cell_type": "code",
      "execution_count": null,
      "metadata": {
        "colab": {
          "base_uri": "https://localhost:8080/"
        },
        "id": "WOH-GsivYtcJ",
        "outputId": "5310879b-a160-4c4c-ae4a-e652d1142f78"
      },
      "outputs": [
        {
          "output_type": "stream",
          "name": "stdout",
          "text": [
            "8\n",
            "8\n"
          ]
        }
      ],
      "source": [
        "s = 'qesdwfrvcxzaasdqeetts'\n",
        "\n",
        "print(len(s)-len(set(s)))\n",
        "\n",
        "## 출력값: 8"
      ]
    },
    {
      "cell_type": "markdown",
      "metadata": {
        "id": "f9gvtgF5YtcJ"
      },
      "source": [
        "#### 2)사전\n",
        "+ key와 value로 구성되어 있으며, key값을 통해 value값을 호출할 수 있다.\n",
        "  + key는 중복불가하며,\n",
        "  + immutalbe한 객체들만 key값이 될 수 있다."
      ]
    },
    {
      "cell_type": "code",
      "execution_count": null,
      "metadata": {
        "id": "k_AEo5QqYtcJ"
      },
      "outputs": [],
      "source": [
        "a = {}\n",
        "d = dict()\n",
        "\n",
        "print(type(a), type(d))"
      ]
    },
    {
      "cell_type": "code",
      "execution_count": null,
      "metadata": {
        "id": "ApZvk2UqYtcK"
      },
      "outputs": [],
      "source": [
        "a = {}\n",
        "\n",
        "a[[1,2,3]] = '123'"
      ]
    },
    {
      "cell_type": "code",
      "execution_count": null,
      "metadata": {
        "id": "SfabM7SBYtcK"
      },
      "outputs": [],
      "source": [
        "a = {}\n",
        "a[(1,2,3)] = '123'\n",
        "\n",
        "print(a)"
      ]
    },
    {
      "cell_type": "code",
      "execution_count": null,
      "metadata": {
        "colab": {
          "base_uri": "https://localhost:8080/"
        },
        "id": "MDHgeoGPYtcK",
        "outputId": "561eb00e-f876-471c-8442-0d770737218f"
      },
      "outputs": [
        {
          "output_type": "stream",
          "name": "stdout",
          "text": [
            "dict_keys(['1', '2', '3'])\n",
            "dict_values([10, 20, 30])\n",
            "dict_items([('1', 10), ('2', 20), ('3', 30)])\n",
            "<class 'dict_items'>\n"
          ]
        }
      ],
      "source": [
        "a = {'1':10, '2':20, '3':30}\n",
        "\n",
        "print(a.keys())\n",
        "print(a.values())\n",
        "print(a.items())\n",
        "print(type(a.items()))"
      ]
    },
    {
      "cell_type": "code",
      "execution_count": null,
      "metadata": {
        "colab": {
          "base_uri": "https://localhost:8080/"
        },
        "id": "W1qoMngvYtcK",
        "outputId": "6e8589fe-6c9c-497e-e248-7dbb57c4f2bb"
      },
      "outputs": [
        {
          "output_type": "stream",
          "name": "stdout",
          "text": [
            "{'1': 100}\n",
            "{'1': 200}\n"
          ]
        }
      ],
      "source": [
        "## 순서가 없다는 말은, 중복을 허용하지 않는다는 말이다!\n",
        "a = {}\n",
        "\n",
        "a['1'] = 100\n",
        "print(a)\n",
        "\n",
        "a['1'] = 200\n",
        "print(a)"
      ]
    },
    {
      "cell_type": "code",
      "execution_count": null,
      "metadata": {
        "colab": {
          "base_uri": "https://localhost:8080/"
        },
        "id": "c-J9HSNxYtcK",
        "outputId": "1dd812c2-595c-409d-e89a-8dbec4ca02f4"
      },
      "outputs": [
        {
          "output_type": "stream",
          "name": "stdout",
          "text": [
            "{'1': 10, '2': 20, '3': 30, 4: '40', 5: '50'}\n",
            "{'1': 10, '2': 20, '3': 30, 4: '40', 5: '50', 100: '100', 200: '200'}\n"
          ]
        }
      ],
      "source": [
        "a = {'1':10, '2':20, '3':30} # immutable 객체만 key가 될 수 있음\n",
        "\n",
        "\n",
        "a.update({4:'40', 5:'50'})\n",
        "print(a)\n",
        "\n",
        "a.update([(100,'100'), (200, '200')])\n",
        "print(a)"
      ]
    },
    {
      "cell_type": "code",
      "execution_count": null,
      "metadata": {
        "colab": {
          "base_uri": "https://localhost:8080/"
        },
        "id": "sZxVLJpdYtcL",
        "outputId": "ece8b873-fba3-4616-aa10-f823517c3f2a"
      },
      "outputs": [
        {
          "output_type": "stream",
          "name": "stdout",
          "text": [
            "{'2': 20, '3': 30}\n"
          ]
        }
      ],
      "source": [
        "a = {'1':10, '2':20, '3':30}\n",
        "\n",
        "del a['1'] #이건 if와 같은 구문임\n",
        "print(a)"
      ]
    },
    {
      "cell_type": "markdown",
      "metadata": {
        "id": "qJAJdjMaYtcL"
      },
      "source": [
        "##### 복습문제 3\n",
        "+ 주어진 문자열을 철자 단위로 나누어, 문자를 key로, 빈도수를 value로 가지는 사전을 생성하시오."
      ]
    },
    {
      "cell_type": "code",
      "execution_count": null,
      "metadata": {
        "colab": {
          "base_uri": "https://localhost:8080/"
        },
        "id": "90CmuvHTYtcL",
        "outputId": "4c095878-0468-405a-b9a4-a349ed0a8ca6"
      },
      "outputs": [
        {
          "output_type": "stream",
          "name": "stdout",
          "text": [
            "{'a': 5, 'b': 3, 'c': 3, 'd': 2, 'e': 2}\n"
          ]
        }
      ],
      "source": [
        "s = 'abcaaabbccadede'\n",
        "dict1 = dict()\n",
        "\n",
        "for char in s:\n",
        "  if char not in dict1.keys():\n",
        "    dict1[char] = 1\n",
        "  else:\n",
        "    dict1[char]+=1\n",
        "print(dict1)\n",
        "\n",
        "\n",
        "\n",
        "\n",
        "# for char in s:\n",
        "#   dict1[char] = s.count(char)\n",
        "# print(dict1)\n",
        "## 출력값: {'a': 5, 'b': 3, 'c': 3, 'd': 2, 'e': 2}"
      ]
    },
    {
      "cell_type": "markdown",
      "metadata": {
        "id": "gYKbFYfHYtcL"
      },
      "source": [
        "### 2-2.반복가능-순서있음: 문자열, 리스트, 튜플\n",
        "+ 인덱싱, 슬라이싱, sequence.index(), sequence.count()"
      ]
    },
    {
      "cell_type": "code",
      "execution_count": null,
      "metadata": {
        "colab": {
          "base_uri": "https://localhost:8080/"
        },
        "id": "ySo49ahfYtcL",
        "outputId": "f40a01e8-a271-462d-a1b4-e4ce781716d6"
      },
      "outputs": [
        {
          "output_type": "stream",
          "name": "stdout",
          "text": [
            "1\n",
            "1\n",
            "1\n",
            "4\n",
            "4\n",
            "4\n"
          ]
        }
      ],
      "source": [
        "s = '01234'\n",
        "l = [0,1,2,3,4]\n",
        "t = (0,1,2,3,4)\n",
        "\n",
        "print(\n",
        "    s[1],\n",
        "    l[1],\n",
        "    t[1],\n",
        "    s[-1],\n",
        "    l[-1],\n",
        "    t[-1],\n",
        "    sep = '\\n'\n",
        ")"
      ]
    },
    {
      "cell_type": "code",
      "execution_count": null,
      "metadata": {
        "colab": {
          "base_uri": "https://localhost:8080/"
        },
        "id": "382PIXaqYtcM",
        "outputId": "a87d18cf-824a-4d03-e094-3ffd6b951da5"
      },
      "outputs": [
        {
          "output_type": "stream",
          "name": "stdout",
          "text": [
            "1\n",
            "[1]\n",
            "(1,)\n",
            "01\n",
            "[0, 1]\n",
            "(0, 1)\n",
            "4\n",
            "[4]\n",
            "(4,)\n"
          ]
        }
      ],
      "source": [
        "s = '01234'\n",
        "l = [0,1,2,3,4]\n",
        "t = (0,1,2,3,4)\n",
        "\n",
        "print(\n",
        "    s[1:2], =< x < 인 경우를 찾음\n",
        "    l[1:2],\n",
        "    t[1:2],\n",
        "    s[:2],\n",
        "    l[:2],\n",
        "    t[:2],\n",
        "    s[-1:],\n",
        "    l[-1:],\n",
        "    t[-1:],\n",
        "    sep = '\\n'\n",
        ")"
      ]
    },
    {
      "cell_type": "code",
      "execution_count": null,
      "metadata": {
        "colab": {
          "base_uri": "https://localhost:8080/"
        },
        "id": "UxkrLpm5YtcM",
        "outputId": "d412b75b-ac29-4846-abac-3eab25da48ee"
      },
      "outputs": [
        {
          "output_type": "stream",
          "name": "stdout",
          "text": [
            "2\n",
            "2\n",
            "2\n"
          ]
        }
      ],
      "source": [
        "s = 'abcde'\n",
        "l = ['a', 'b', 'c', 'd', 'e']\n",
        "t = ('a', 'b', 'c', 'd', 'e')\n",
        "\n",
        "print(\n",
        "    s.index('c'),\n",
        "    l.index('c'),\n",
        "    t.index('c'),\n",
        "    sep='\\n'\n",
        ")"
      ]
    },
    {
      "cell_type": "code",
      "execution_count": null,
      "metadata": {
        "colab": {
          "base_uri": "https://localhost:8080/"
        },
        "id": "nAp7hBeTYtcM",
        "outputId": "9d486d74-5ce2-4fbe-e479-7fa91620085b"
      },
      "outputs": [
        {
          "output_type": "stream",
          "name": "stdout",
          "text": [
            "4\n",
            "4\n",
            "4\n"
          ]
        }
      ],
      "source": [
        "s = \"123111\"\n",
        "l = [1,2,3,1,1,1]\n",
        "t = (1,2,3,1,1,1)\n",
        "\n",
        "print(\n",
        "    s.count('1'),\n",
        "    l.count(1),\n",
        "    t.count(1),\n",
        "    sep = '\\n'\n",
        ")\n"
      ]
    },
    {
      "cell_type": "markdown",
      "metadata": {
        "id": "sErRsZ7YYtcM"
      },
      "source": [
        "#### 1)문자열\n",
        "+ 문자열은 immutable하다.(값을 변경할 수 없다.) 따라서 값을 변경하고자 할 때에는, 새로운 변수에 할당해야 한다.\n",
        "+ `더하기, 곱하기`, ~~빼기, 나누기~~\n",
        "+ `str.strip()`, `str.lstrip()`, `str.rstrip()`\n",
        "+ `str.replace()`\n",
        "+ `str.upper()`, `str.lower()`, `str.title()`, `str.capitalize()`...\n",
        "+ 불값을 반환하는 메소드들\n",
        "  + `str.startswith()`, `str.endswith()`\n",
        "  + `str.isupper()`, `str.islower()`, `str.istitle()`...\n",
        "  + `str.isalnum()`, `str.isalpha()`, `str.isnumeric()`...\n",
        "+ 문자열 형변환\n",
        "  + `str.split()` -> list\n",
        "  + `str.join(iterable)`->str"
      ]
    },
    {
      "cell_type": "code",
      "execution_count": null,
      "metadata": {
        "id": "xtjbnnvkYtcN"
      },
      "outputs": [],
      "source": [
        "## 사칙연산. 더하기 곱하기만 된다.\n",
        "print(\n",
        "    'abc'+'def',\n",
        "    'abc'*2,\n",
        "    sep = '\\n'\n",
        ")"
      ]
    },
    {
      "cell_type": "code",
      "execution_count": null,
      "metadata": {
        "colab": {
          "base_uri": "https://localhost:8080/",
          "height": 105
        },
        "id": "XcU36dWnYtcN",
        "outputId": "85fd7f2d-10d4-476a-b711-cc1d3aecf80e"
      },
      "outputs": [
        {
          "output_type": "stream",
          "name": "stdout",
          "text": [
            " \n",
            "\t  a b c  \n",
            "\t \n",
            "a b c\n"
          ]
        },
        {
          "output_type": "execute_result",
          "data": {
            "text/plain": [
              "' \\n\\t  a b c  \\n\\t '"
            ],
            "application/vnd.google.colaboratory.intrinsic+json": {
              "type": "string"
            }
          },
          "metadata": {},
          "execution_count": 1
        }
      ],
      "source": [
        "s = ' \\n\\t  a b c  \\n\\t '\n",
        "b = s.strip()   ##공백 제거 immutable한 객체이므로, 반드시 새로 할당해야 한다.\n",
        "print(s)\n",
        "print(b)\n",
        "s"
      ]
    },
    {
      "cell_type": "code",
      "execution_count": null,
      "metadata": {
        "colab": {
          "base_uri": "https://localhost:8080/"
        },
        "id": "5CkrTFJ2YtcN",
        "outputId": "b22467ee-0da1-4356-9e49-ec0fc7cf6d6b"
      },
      "outputs": [
        {
          "output_type": "stream",
          "name": "stdout",
          "text": [
            "abc\n",
            "abcxyx\n",
            "xyxabc\n"
          ]
        }
      ],
      "source": [
        "s = 'xyxabcxyx'\n",
        "\n",
        "print(\n",
        "    s.strip('xy'),\n",
        "    s.lstrip('xy'), #동일하지 않은 문자가 나올 때까지 제거합니다.\n",
        "    s.rstrip('xy'),\n",
        "    sep = '\\n'\n",
        ")"
      ]
    },
    {
      "cell_type": "code",
      "execution_count": null,
      "metadata": {
        "colab": {
          "base_uri": "https://localhost:8080/"
        },
        "id": "AfKbABJZYtcN",
        "outputId": "31f9f566-d539-48c9-eeed-00b6d8b5b3cf"
      },
      "outputs": [
        {
          "output_type": "stream",
          "name": "stdout",
          "text": [
            "Oh HATE, I HATE you.\n",
            "Oh Love, I Love You.\n",
            "Oh love, i love you.\n"
          ]
        }
      ],
      "source": [
        "s = \"Oh love, I love you.\"\n",
        "\n",
        "print(\n",
        "    s.replace('LOVE'.lower(), 'hate'.upper()),\n",
        "    s.title()#모든 단어 첫문자 대문자화,\n",
        "    s.capitalize()#첫문자만 대문자화,\n",
        "    sep = '\\n'\n",
        ")"
      ]
    },
    {
      "cell_type": "code",
      "execution_count": null,
      "metadata": {
        "colab": {
          "base_uri": "https://localhost:8080/"
        },
        "id": "0L15L-_2YtcO",
        "outputId": "594fb26c-1aec-435d-a739-711a7c695c8b"
      },
      "outputs": [
        {
          "output_type": "stream",
          "name": "stdout",
          "text": [
            "['abc', '123', 'abc']\n",
            "['abc ', ' abc']\n",
            "['', ' 123 ', '']\n",
            "['', ' 123 abc']\n",
            "['abc 123 ', '']\n"
          ]
        }
      ],
      "source": [
        "s = 'abc 123 abc'\n",
        "\n",
        "print(\n",
        "    s.split(), #공백기준 나누기\n",
        "    s.split('123'),\n",
        "    s.split('abc'),\n",
        "    s.split('abc', 1), #1회만\n",
        "    s.rsplit('abc',1),\n",
        "    sep = '\\n'\n",
        ")"
      ]
    },
    {
      "cell_type": "code",
      "execution_count": null,
      "metadata": {
        "colab": {
          "base_uri": "https://localhost:8080/",
          "height": 35
        },
        "id": "htlebjRVYtcO",
        "outputId": "838b9066-1184-40f7-ce5a-1956528bff94"
      },
      "outputs": [
        {
          "output_type": "execute_result",
          "data": {
            "text/plain": [
              "'You and He and She lived happily'"
            ],
            "application/vnd.google.colaboratory.intrinsic+json": {
              "type": "string"
            }
          },
          "metadata": {},
          "execution_count": 53
        }
      ],
      "source": [
        "iterable = ['You', 'He', 'She'] #반복가능타입 받음\n",
        "\n",
        "' and '.join(iterable) + ' lived happily'"
      ]
    },
    {
      "cell_type": "markdown",
      "metadata": {
        "id": "LnHQkCcuYtcQ"
      },
      "source": [
        "##### 복습문제 4\n",
        "+ 다음 문장을 주어진 출력값으로 바꾸는 코드를 작성하시오.\n",
        "  + 단, 함수/메소드 및 연산자는 한번씩만 사용하시오. (예를 들어, replace 메소드를 두 번 사용할 수 없음)"
      ]
    },
    {
      "cell_type": "code",
      "execution_count": null,
      "metadata": {
        "colab": {
          "base_uri": "https://localhost:8080/"
        },
        "id": "yjbT44JYYtcQ",
        "outputId": "972ec123-8a40-4587-ad35-8f7c6b1a38b9"
      },
      "outputs": [
        {
          "output_type": "stream",
          "name": "stdout",
          "text": [
            "I waited for her mother.\n"
          ]
        }
      ],
      "source": [
        "given = '   @!?!I wAiTed for my father.!@!!  '\n",
        "\n",
        "answer = given.strip(' @!?').capitalize().replace(\"my father\", \"her mother\") # 메서드는 한번에 이어쓰기 가능, #strip은 동일하지 않은 문자가 나올 때까지 양쪽에서 제거들어가므로 처음에 공백 안넣으면 작동안함\n",
        "\n",
        "\n",
        "print(answer)\n",
        "## 출력값: I waited for her mother. (좌우 공백없음)"
      ]
    },
    {
      "cell_type": "markdown",
      "metadata": {
        "id": "AxK84kZjYtcR"
      },
      "source": [
        "#### 2)리스트\n",
        "+ 더하기, 곱하기.\n",
        "+ 추가하기\n",
        "  + `list.append(one_value) -> None`\n",
        "  + `list.extend(iteralbe) -> None`\n",
        "  + `list.insert(index, value) -> None`\n",
        "  + `list += another_list`\n",
        "+ 제거하기\n",
        "  + `list.pop(index) -> value`\n",
        "  + `list.remove(value) -> None`\n",
        "  + `list.clear()`\n",
        "+ 정렬하기, 뒤집기\n",
        "  + `list.sort()`\n",
        "  + `list.reverse()`"
      ]
    },
    {
      "cell_type": "code",
      "execution_count": null,
      "metadata": {
        "colab": {
          "base_uri": "https://localhost:8080/"
        },
        "id": "I3hAsFFCYtcR",
        "outputId": "4f49b27f-5cf5-45dd-99ea-46f3449fec1f"
      },
      "outputs": [
        {
          "output_type": "stream",
          "name": "stdout",
          "text": [
            "[1, 2, 1, 2]\n",
            "[1, 2, 1, 2, 1, 2]\n"
          ]
        }
      ],
      "source": [
        "l = [1,2]\n",
        "\n",
        "print(l+l,\n",
        "      l*3,\n",
        "      sep = '\\n')"
      ]
    },
    {
      "cell_type": "code",
      "execution_count": null,
      "metadata": {
        "colab": {
          "base_uri": "https://localhost:8080/"
        },
        "id": "DE-OYZD1YtcR",
        "outputId": "83a4c66e-9320-4166-8a91-d5797198d87a"
      },
      "outputs": [
        {
          "output_type": "stream",
          "name": "stdout",
          "text": [
            "None\n",
            "[0]\n"
          ]
        }
      ],
      "source": [
        "l = []\n",
        "\n",
        "b = l.append(0) #반환값 없음\n",
        "print(b)\n",
        "print(l)"
      ]
    },
    {
      "cell_type": "code",
      "execution_count": null,
      "metadata": {
        "colab": {
          "base_uri": "https://localhost:8080/"
        },
        "id": "5TU0aCsOYtcR",
        "outputId": "7360dbeb-a5d7-448f-a422-f4db4eba7da1"
      },
      "outputs": [
        {
          "output_type": "stream",
          "name": "stdout",
          "text": [
            "[0, 4, 5, 6]\n",
            "[0, 4, 5, 100, 6]\n"
          ]
        }
      ],
      "source": [
        "l.extend({4,5,6}) # append와의 차이는 단항이 아닌 여러 항 들어간다는 것, 함수의 add와 update의 관계\n",
        "print(l)\n",
        "\n",
        "l.insert(3, 100) #0,1,2,3 3 인덱스에 100 끼워넣음, 원래 인덱스가 3인 항이 밀려남\n",
        "print(l)"
      ]
    },
    {
      "cell_type": "code",
      "execution_count": null,
      "metadata": {
        "colab": {
          "base_uri": "https://localhost:8080/"
        },
        "id": "AiGAhhk2YtcR",
        "outputId": "91d06fa3-25ef-448a-90ad-35edd9572d12"
      },
      "outputs": [
        {
          "output_type": "stream",
          "name": "stdout",
          "text": [
            "6\n",
            "[0, 4, 5, 100]\n",
            "[0, 4, 5]\n",
            "[]\n"
          ]
        }
      ],
      "source": [
        "b = l.pop(-1) #index로 뽑아내기 가능\n",
        "print(b)\n",
        "print(l)\n",
        "\n",
        "l.remove(100)\n",
        "print(l)\n",
        "\n",
        "l.clear()\n",
        "print(l)"
      ]
    },
    {
      "cell_type": "code",
      "execution_count": null,
      "metadata": {
        "colab": {
          "base_uri": "https://localhost:8080/"
        },
        "id": "Vlxm7jxKYtcS",
        "outputId": "88daa374-1874-4477-84de-61329bab7ac1"
      },
      "outputs": [
        {
          "output_type": "stream",
          "name": "stdout",
          "text": [
            "None\n",
            "[1, 2, 3, 4, 5]\n"
          ]
        }
      ],
      "source": [
        "l = [1,5,2,4,3]\n",
        "\n",
        "b = l.sort() #리스트 전용 메서드, 반환값 없음\n",
        "print(b)\n",
        "print(l)"
      ]
    },
    {
      "cell_type": "code",
      "execution_count": null,
      "metadata": {
        "id": "HyPs4BsKYtcS"
      },
      "outputs": [],
      "source": [
        "l = [1,5,2,4,3]\n",
        "\n",
        "b = sorted(l)\n",
        "print(b)\n",
        "print(l)"
      ]
    },
    {
      "cell_type": "code",
      "execution_count": null,
      "metadata": {
        "colab": {
          "base_uri": "https://localhost:8080/"
        },
        "id": "xp1Ag8f2YtcS",
        "outputId": "08820d3f-8c2c-4338-fc84-069e98711833"
      },
      "outputs": [
        {
          "output_type": "stream",
          "name": "stdout",
          "text": [
            "[3, 4, 2, 5, 1]\n",
            "[5, 4, 3, 2, 1]\n"
          ]
        }
      ],
      "source": [
        "l = [1,5,2,4,3]\n",
        "\n",
        "l.reverse()     ## 냅다 뒤집어!\n",
        "print(l)\n",
        "\n",
        "l.sort(reverse = 1)     ## 그래도 정렬은 하고 뒤집어!\n",
        "print(l)"
      ]
    },
    {
      "cell_type": "markdown",
      "metadata": {
        "id": "cGyTnhs9YtcT"
      },
      "source": [
        "##### 복습문제 5\n",
        "+ 5개의 값을 한번에 입력받아, 이를 정렬하여 하나씩 출력하는 코드를 작성하시오."
      ]
    },
    {
      "cell_type": "code",
      "execution_count": null,
      "metadata": {
        "colab": {
          "base_uri": "https://localhost:8080/"
        },
        "id": "9EabTPbHYtcT",
        "outputId": "3d1ac089-f2be-4f17-80a7-b03a2c12f260"
      },
      "outputs": [
        {
          "output_type": "stream",
          "name": "stdout",
          "text": [
            "5\n",
            "10\n",
            "4\n",
            "1\n",
            "9\n",
            "1\n",
            "4\n",
            "5\n",
            "9\n",
            "10\n"
          ]
        }
      ],
      "source": [
        "## 입력값: 5 10 4 1 9 (각 값들 사이에는 엔터)\n",
        "list1 = []\n",
        "for i in range (5): # x in iterable\n",
        "  list1.append(int(input()))\n",
        "list1.sort()\n",
        "for i in list1:\n",
        "  print(i)\n",
        "\n",
        "## 출력값: 1\n",
        "##         4\n",
        "##         5\n",
        "##         9\n",
        "##         10"
      ]
    },
    {
      "cell_type": "markdown",
      "metadata": {
        "id": "uRFtREcIYtcT"
      },
      "source": [
        "#### 3)튜플\n",
        "+ 리스트와 똑같지만, immutalbe하다는 점만 다르다.\n",
        "+ 고유한 메소드 없음."
      ]
    },
    {
      "cell_type": "code",
      "execution_count": null,
      "metadata": {
        "colab": {
          "base_uri": "https://localhost:8080/"
        },
        "id": "rmr8iWZ2YtcT",
        "outputId": "91a56792-9726-4c9a-bf05-6e989374d0b6"
      },
      "outputs": [
        {
          "output_type": "stream",
          "name": "stdout",
          "text": [
            "<class 'tuple'> <class 'int'> <class 'tuple'>\n"
          ]
        }
      ],
      "source": [
        "tt = (1,2)\n",
        "n = (1) #이놈은 int나오는게 중요\n",
        "t = (1,)\n",
        "\n",
        "print(\n",
        "    type(tt),\n",
        "    type(n),\n",
        "    type(t)\n",
        ")"
      ]
    },
    {
      "cell_type": "code",
      "execution_count": null,
      "metadata": {
        "colab": {
          "base_uri": "https://localhost:8080/"
        },
        "id": "ObayNLq-YtcT",
        "outputId": "cf3a440b-3202-44b6-a1db-badd618b0bf6"
      },
      "outputs": [
        {
          "output_type": "stream",
          "name": "stdout",
          "text": [
            "(1, [10, 20, 30, 100], 4)\n"
          ]
        }
      ],
      "source": [
        "t = (1, [10,20,30], 4) # 튜플의 2차구조에는 손댈수있다\n",
        "\n",
        "t[1].append(100)\n",
        "\n",
        "print(t)"
      ]
    },
    {
      "cell_type": "markdown",
      "metadata": {
        "id": "0gV0WPUcYtcU"
      },
      "source": [
        "##### 복습문제 6\n",
        "+ 주어진 변수를 활용해,\n",
        "  + 10 이상의 수를 제거하고,\n",
        "  + 중복 역시 제거하여,\n",
        "  + 정렬한,\n",
        "+ **튜플**을 출력하시오.\n",
        "\n",
        "<br>\n",
        "\n",
        "+ 가능하다면, 한 줄 코드로 작성하시오."
      ]
    },
    {
      "cell_type": "code",
      "execution_count": null,
      "metadata": {
        "colab": {
          "base_uri": "https://localhost:8080/"
        },
        "id": "EYDl0aJKYtcU",
        "outputId": "37bbaf0d-dc35-4fb2-c83f-1b06c6af5ce5"
      },
      "outputs": [
        {
          "output_type": "stream",
          "name": "stdout",
          "text": [
            "(1, 2, 8, 9)\n"
          ]
        }
      ],
      "source": [
        "t = (1, 11, 2, 8, 25, 8, 9, 1, 2)\n",
        "\n",
        "l = tuple(x for x in sorted(set(t)) if x<=10)\n",
        "\n",
        "print(l)\n",
        "## 출력값: (1, 2, 8, 9)"
      ]
    },
    {
      "cell_type": "code",
      "source": [
        "t = (1,2,3)\n",
        "l = list(t)\n",
        "l.append(4)\n",
        "t = tuple(l)\n",
        "print(t)\n",
        "\n",
        "t = t + (4,) # 튜플은 불변이더라도 덮어씌운 튜플은 만들 수 있다"
      ],
      "metadata": {
        "colab": {
          "base_uri": "https://localhost:8080/"
        },
        "id": "PyhKXNzh9tMF",
        "outputId": "bf1f9b53-809a-4240-8b66-3e0c605d3c4b"
      },
      "execution_count": null,
      "outputs": [
        {
          "output_type": "stream",
          "name": "stdout",
          "text": [
            "(1, 2, 3, 4)\n"
          ]
        }
      ]
    },
    {
      "cell_type": "markdown",
      "metadata": {
        "id": "oE6z3VjxYtcU"
      },
      "source": [
        "## 중요 개념들과 주요 함수들 빠르게 복습하기\n",
        "+ 함수 포인트: 여러 값을 반환하기, 지역변수/전역변수 개념, 람다함수(익명함수)\n",
        "+ 주요 함수들: zip함수, range함수, enumerate함수"
      ]
    },
    {
      "cell_type": "markdown",
      "metadata": {
        "id": "16XEQ83PYtcU"
      },
      "source": [
        "#### 함수 포인트"
      ]
    },
    {
      "cell_type": "code",
      "execution_count": null,
      "metadata": {
        "colab": {
          "base_uri": "https://localhost:8080/"
        },
        "id": "jqeh6wA-YtcU",
        "outputId": "089e5018-0681-4f17-9f22-606864371b5d"
      },
      "outputs": [
        {
          "output_type": "stream",
          "name": "stdout",
          "text": [
            "10\n",
            "(10, 100) <class 'tuple'>\n",
            "1\n",
            "None\n"
          ]
        }
      ],
      "source": [
        "a = 1               ## 전역변수\n",
        "b=999\n",
        "def print_a():\n",
        "    a = 10          ## 지역변수\n",
        "    b = 100         ## 지역변수\n",
        "    print(a)\n",
        "    return a, b\n",
        "\n",
        "x = print_a()\n",
        "\n",
        "print(x, type(x))    ## 튜플 형식으로 리턴\n",
        "print(a)\n",
        "print(b) # 전역변수 b"
      ]
    },
    {
      "cell_type": "code",
      "execution_count": null,
      "metadata": {
        "colab": {
          "base_uri": "https://localhost:8080/"
        },
        "id": "NBum34LqYtcV",
        "outputId": "5be8ee4e-a08f-4991-d2a5-388b976c27d6"
      },
      "outputs": [
        {
          "output_type": "stream",
          "name": "stdout",
          "text": [
            "1\n",
            "2\n",
            "3\n",
            "3\n",
            "100\n"
          ]
        }
      ],
      "source": [
        "for x in [1,2,3]:\n",
        "    a = x\n",
        "    b = 100\n",
        "    print(a)\n",
        "\n",
        "print(a)    ## !! 반복문은 함수가 아니기에, 지역변수가 아니다!! indentation때문에 오해 말기\n",
        "print(b)"
      ]
    },
    {
      "cell_type": "code",
      "execution_count": null,
      "metadata": {
        "colab": {
          "base_uri": "https://localhost:8080/"
        },
        "id": "BLOdmp0-YtcV",
        "outputId": "a0d2a713-18d0-47f2-d488-07b92e073988"
      },
      "outputs": [
        {
          "output_type": "stream",
          "name": "stdout",
          "text": [
            "3\n"
          ]
        },
        {
          "output_type": "execute_result",
          "data": {
            "text/plain": [
              "3"
            ]
          },
          "metadata": {},
          "execution_count": 107
        }
      ],
      "source": [
        "## 람다함수(익명함수)\n",
        "ld = (lambda x: x + 1)\n",
        "# def (announymous) (x):\n",
        "  #return x + 1\n",
        "print(ld(2))\n",
        "\n",
        "(lambda x:x+1)(2)   ## 이런식으로 쓸 수도 있다."
      ]
    },
    {
      "cell_type": "code",
      "execution_count": null,
      "metadata": {
        "colab": {
          "base_uri": "https://localhost:8080/"
        },
        "id": "8uGm2WEuYtcW",
        "outputId": "0130842d-2a57-475a-8f08-f4a501f2a8c7"
      },
      "outputs": [
        {
          "output_type": "stream",
          "name": "stdout",
          "text": [
            "[1, 2, 3]\n",
            "[1, 2, 3]\n",
            "[3, 2, 1]\n"
          ]
        }
      ],
      "source": [
        "d = {1:100, 2:20, 3:3}\n",
        "print(list(d))\n",
        "print(sorted(d))\n",
        "print(sorted(d, key = lambda x:d[x]))   ## sorted와 람다함수를 섞어서 맛있게 쓸 수 있다! > 키값 주면 밸류값을 반환하는 람다함수, key는 정렬순서, 밸류값 순서인 3, 20, 100순서대로 정렬됨"
      ]
    },
    {
      "cell_type": "markdown",
      "metadata": {
        "id": "7hp924AnYtcX"
      },
      "source": [
        "#### 리스트 내장과 제너레이터 개념"
      ]
    },
    {
      "cell_type": "code",
      "execution_count": null,
      "metadata": {
        "colab": {
          "base_uri": "https://localhost:8080/"
        },
        "id": "GWD8BtUHYtcX",
        "outputId": "2ef2a9ad-a02d-437e-fefb-e7396f9e344d"
      },
      "outputs": [
        {
          "output_type": "stream",
          "name": "stdout",
          "text": [
            "[11, 12, 13]\n"
          ]
        }
      ],
      "source": [
        "l = []\n",
        "\n",
        "for x in [1,2,3]:\n",
        "    l.append(x + 10)\n",
        "\n",
        "print(l)"
      ]
    },
    {
      "cell_type": "code",
      "execution_count": null,
      "metadata": {
        "colab": {
          "base_uri": "https://localhost:8080/"
        },
        "id": "R4daZBPfYtcX",
        "outputId": "beed0648-874c-4eba-eb8a-de300eedb826"
      },
      "outputs": [
        {
          "output_type": "stream",
          "name": "stdout",
          "text": [
            "[11, 12, 13]\n"
          ]
        }
      ],
      "source": [
        "l = [x + 10 for x in [1,2,3]]\n",
        "print(l)"
      ]
    },
    {
      "cell_type": "code",
      "execution_count": null,
      "metadata": {
        "colab": {
          "base_uri": "https://localhost:8080/"
        },
        "id": "ifbgHGnrYtcY",
        "outputId": "57cfd179-5814-4143-e450-74d3eddd5864"
      },
      "outputs": [
        {
          "output_type": "stream",
          "name": "stdout",
          "text": [
            "[11, 13]\n"
          ]
        }
      ],
      "source": [
        "l = [x + 10 for x in [1,2,3] if x != 2]\n",
        "print(l)"
      ]
    },
    {
      "cell_type": "code",
      "execution_count": null,
      "metadata": {
        "colab": {
          "base_uri": "https://localhost:8080/"
        },
        "id": "koeSwy91YtcY",
        "outputId": "f293074c-a604-4418-e589-cf13e6cca0c9"
      },
      "outputs": [
        {
          "output_type": "stream",
          "name": "stdout",
          "text": [
            "['홀수', '짝수', '홀수', '짝수']\n"
          ]
        }
      ],
      "source": [
        "l = ['짝수' if x % 2 == 0 else '홀수' for x in [1,2,3,4]]   ## !! 사용하는 형태가 바뀐 것에 유의하자!, 조건문이 앞으로 갔고 조건문 충족 시 해당하는 구문이 앞에 있음\n",
        "print(l)"
      ]
    },
    {
      "cell_type": "code",
      "execution_count": null,
      "metadata": {
        "colab": {
          "base_uri": "https://localhost:8080/"
        },
        "id": "fC9UjC54YtcY",
        "outputId": "3354608a-60a1-4e8e-ff26-f31e563affeb"
      },
      "outputs": [
        {
          "output_type": "stream",
          "name": "stdout",
          "text": [
            "[11, 21, 31, 12, 22, 32, 13, 23, 33]\n"
          ]
        }
      ],
      "source": [
        "l = [x+y for x in [1,2,3] for y in [10,20,30]]\n",
        "print(l)"
      ]
    },
    {
      "cell_type": "code",
      "execution_count": null,
      "metadata": {
        "colab": {
          "base_uri": "https://localhost:8080/"
        },
        "id": "y4q1o6a1YtcY",
        "outputId": "6b402116-4856-46d8-c795-2be4f11a2173"
      },
      "outputs": [
        {
          "output_type": "stream",
          "name": "stdout",
          "text": [
            "{16, 14, 15} {1: 11, 2: 12, 3: 13}\n"
          ]
        }
      ],
      "source": [
        "s = {x+10 for x in (4,5,6)}         ## 집합 내장\n",
        "d = {x:x + 10 for x in {1,2,3}}     ## 사전 내장\n",
        "\n",
        "print(s, d)"
      ]
    },
    {
      "cell_type": "code",
      "execution_count": null,
      "metadata": {
        "colab": {
          "base_uri": "https://localhost:8080/"
        },
        "id": "_tRP6i78YtcZ",
        "outputId": "e8e4a6fc-8366-41e6-cf8f-f631e2ffb169"
      },
      "outputs": [
        {
          "output_type": "stream",
          "name": "stdout",
          "text": [
            "<generator object <genexpr> at 0x7f0b90e44e40>\n",
            "[11, 12, 13]\n"
          ]
        }
      ],
      "source": [
        "gen = (x+10 for x in [1,2,3])   ## 튜플 내장은?\n",
        "\n",
        "print(gen)\n",
        "print(list(gen))"
      ]
    },
    {
      "cell_type": "markdown",
      "metadata": {
        "id": "GblPYLx6YtcZ"
      },
      "source": [
        "#### 주요 함수들"
      ]
    },
    {
      "cell_type": "code",
      "execution_count": null,
      "metadata": {
        "id": "X7zWOdaMYtcZ"
      },
      "outputs": [],
      "source": [
        "print(range(1,10)) # =< x < 부등호, 그냥 10이면 0=<x<10이므로 10번 반복"
      ]
    },
    {
      "cell_type": "code",
      "execution_count": null,
      "metadata": {
        "colab": {
          "base_uri": "https://localhost:8080/"
        },
        "id": "mFuBgg3HYtcZ",
        "outputId": "06be36a4-ac05-44d9-ace6-269fcf252629"
      },
      "outputs": [
        {
          "output_type": "stream",
          "name": "stdout",
          "text": [
            "[1, 2, 3, 4]\n",
            "[]\n",
            "[5, 4, 3, 2]\n",
            "[4, 3, 2, 1]\n"
          ]
        }
      ],
      "source": [
        "print(\n",
        "    list(range(1,5)),\n",
        "    list(range(5,1)), # 5에서 1로 상향순으로 갈 수 있는 방법은 없으므로 공백출력, 5<=x <1 부등식을 만족하는 수는 없음\n",
        "    list(range(5,1,-1)), #하향순으로 가고 싶으면 -1사용\n",
        "    list(range(1,5)[::-1]),     ## 윗 줄보다 이게 더 직관적이라고 생각합니다! 슬라이싱을 한 것, -1씩 움직이라는 뜻의 step임 [1:5:2] >1, 3만 나옴 [::-1] > 이건 처음부터 끝까지 -1 스텝으로라는 뜻임\n",
        "    sep = '\\n'\n",
        ")"
      ]
    },
    {
      "cell_type": "code",
      "execution_count": null,
      "metadata": {
        "colab": {
          "base_uri": "https://localhost:8080/"
        },
        "id": "OoQL00O4YtcZ",
        "outputId": "eaaa5e0e-9144-4ba9-cea2-78697c73ec46"
      },
      "outputs": [
        {
          "output_type": "stream",
          "name": "stdout",
          "text": [
            "<enumerate object at 0x7f0b90e56380>\n",
            "[(0, 'apple'), (1, 'banana'), (2, 'orange')]\n"
          ]
        }
      ],
      "source": [
        "en = enumerate(['apple', 'banana', 'orange'])\n",
        "\n",
        "print(en)\n",
        "print(list(en))"
      ]
    },
    {
      "cell_type": "code",
      "execution_count": null,
      "metadata": {
        "colab": {
          "base_uri": "https://localhost:8080/"
        },
        "id": "4Go8GDzlYtcZ",
        "outputId": "2fbd7d21-2774-4e90-e6fa-ded0db875e5e"
      },
      "outputs": [
        {
          "output_type": "stream",
          "name": "stdout",
          "text": [
            "0th fruit is apple\n",
            "1th fruit is banana\n",
            "2th fruit is orange\n",
            "0th fruit is apple\n",
            "1th fruit is banana\n",
            "2th fruit is orange\n"
          ]
        }
      ],
      "source": [
        "fruits = ['apple', 'banana', 'orange']\n",
        "\n",
        "for i in range(len(fruits)):\n",
        "    print(str(i) + \"th fruit is \" + fruits[i])\n",
        "\n",
        "\n",
        "for i, fruit in enumerate(fruits):          ## 이 코드가 더 깔끔하고, 읽기 쉽다.\n",
        "    print(str(i) + \"th fruit is \" + fruit)"
      ]
    },
    {
      "cell_type": "code",
      "execution_count": null,
      "metadata": {
        "colab": {
          "base_uri": "https://localhost:8080/"
        },
        "id": "UZZf4EYRYtca",
        "outputId": "dabf3004-f4e5-4340-9d6e-12c54cc7d1e0"
      },
      "outputs": [
        {
          "output_type": "stream",
          "name": "stdout",
          "text": [
            "<zip object at 0x7f0b90e0aac0>\n",
            "[(1, 4), (2, 5), (3, 6)]\n",
            "<enumerate object at 0x7f0b90e0ac00>\n",
            "0\n",
            "1\n",
            "2\n",
            "3\n"
          ]
        }
      ],
      "source": [
        "z = zip([1,2,3], (4,5,6))\n",
        "\n",
        "print(z)\n",
        "print(list(z))\n",
        "lst = ['a','b','c','d']\n",
        "print(enumerate(lst))\n",
        "for i, elements in enumerate(lst):\n",
        "    print(i) ##for i 하나만 있으면 튜플 전체를, for i, element면 index로 i를 반환하고 element도 반환한다\n"
      ]
    },
    {
      "cell_type": "code",
      "source": [],
      "metadata": {
        "id": "Y2eQjc5CJV-Z"
      },
      "execution_count": null,
      "outputs": []
    }
  ],
  "metadata": {
    "kernelspec": {
      "display_name": "Python 3",
      "language": "python",
      "name": "python3"
    },
    "language_info": {
      "codemirror_mode": {
        "name": "ipython",
        "version": 3
      },
      "file_extension": ".py",
      "mimetype": "text/x-python",
      "name": "python",
      "nbconvert_exporter": "python",
      "pygments_lexer": "ipython3",
      "version": "3.11.1"
    },
    "orig_nbformat": 4,
    "colab": {
      "provenance": [],
      "include_colab_link": true
    }
  },
  "nbformat": 4,
  "nbformat_minor": 0
}